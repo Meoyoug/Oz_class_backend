{
  "nbformat": 4,
  "nbformat_minor": 0,
  "metadata": {
    "colab": {
      "provenance": [],
      "mount_file_id": "116WX7_QFzX4bXyVmjrpkkHovJFDU5gPR",
      "authorship_tag": "ABX9TyOkM0EEvIsDRtahB9RtSTuG",
      "include_colab_link": true
    },
    "kernelspec": {
      "name": "python3",
      "display_name": "Python 3"
    },
    "language_info": {
      "name": "python"
    }
  },
  "cells": [
    {
      "cell_type": "markdown",
      "metadata": {
        "id": "view-in-github",
        "colab_type": "text"
      },
      "source": [
        "<a href=\"https://colab.research.google.com/github/Meoyoug/Oz_class_backend/blob/main/%EB%B6%95%EC%96%B4%EB%B9%B5_%EB%A6%AC%ED%8C%A9%ED%86%A0%EB%A7%81.ipynb\" target=\"_parent\"><img src=\"https://colab.research.google.com/assets/colab-badge.svg\" alt=\"Open In Colab\"/></a>"
      ]
    },
    {
      "cell_type": "code",
      "execution_count": 38,
      "metadata": {
        "colab": {
          "base_uri": "https://localhost:8080/"
        },
        "id": "tnOUKFxJjQ3g",
        "outputId": "03a98119-965d-4793-c79e-690124fc401f"
      },
      "outputs": [
        {
          "output_type": "stream",
          "name": "stdout",
          "text": [
            "안녕하세요. OZ 붕어빵 자판기입니다.\n",
            "\n",
            "\n",
            "메뉴판\n",
            "              팥 붕어빵 : 2000원\n",
            "              슈크림 붕어빵 : 2500원\n",
            "              잡채 붕어빵 : 3000원\n",
            "\n",
            "\n",
            "주문하실 팥붕어빵의 개수를 입력해주세요.  3\n",
            "주문하실 슈크림붕어빵의 개수를 입력해주세요.  2\n",
            "주문하실 잡채붕어빵의 개수를 입력해주세요.  1\n",
            "\n",
            "주문하신 붕어빵은 팥붕어빵3개, 슈크림붕어빵2개, 잡채붕어빵1개 총 6개 결제금액은 14000입니다.\n",
            "\n",
            "추가주문하시겠습니까? y/n \n",
            "n\n",
            "\n",
            "\n",
            "주문이 완료되었습니다.팥붕어빵3개, 슈크림붕어빵2개, 잡채붕어빵1개 총 6개 입니다. 총 금액은 14000원 입니다.\n",
            "\n",
            "\n",
            "프로그램을 종료합니다.\n"
          ]
        }
      ],
      "source": [
        "from datetime import datetime\n",
        "now = datetime.now()\n",
        "class order_machine:\n",
        "    def __init__(self):\n",
        "        self.fish_p_price = 2000\n",
        "        self.fish_s_price = 2500\n",
        "        self.fish_j_price = 3000\n",
        "        self.fish_p_taste = '팥붕어빵'\n",
        "        self.fish_s_taste = '슈크림붕어빵'\n",
        "        self.fish_j_taste = '잡채붕어빵'\n",
        "        self.order_p_sum = 0\n",
        "        self.order_s_sum = 0\n",
        "        self.order_j_sum = 0\n",
        "        self.order_p = 0\n",
        "        self.order_s = 0\n",
        "        self.order_j = 0\n",
        "        self.total = 0\n",
        "        self.order_p_pay = 0\n",
        "        self.order_s_pay = 0\n",
        "        self.order_j_pay = 0\n",
        "        self.operate_yn = True\n",
        "        self.sell_list = []\n",
        "    def greeting(self):\n",
        "        print(\"안녕하세요. OZ 붕어빵 자판기입니다.\\n\\n\")\n",
        "\n",
        "    def menu(self):\n",
        "        print('''메뉴판\n",
        "              팥 붕어빵 : 2000원\n",
        "              슈크림 붕어빵 : 2500원\n",
        "              잡채 붕어빵 : 3000원\\n\\n''')\n",
        "\n",
        "    def check_order(self):\n",
        "        print(f'주문하신 붕어빵은 {self.fish_p_taste}{self.order_p_sum}개, {self.fish_s_taste}{self.order_s_sum}개, {self.fish_j_taste}{self.order_j_sum}개 총 {self.total}개 결제금액은 {self.total_pay}입니다.\\n')\n",
        "        a = input('추가주문하시겠습니까? y/n \\n')\n",
        "        print()\n",
        "        print()\n",
        "\n",
        "        if a == 'n':\n",
        "            self.operate_yn = False\n",
        "\n",
        "    def input_b(self):\n",
        "        self.order_p = int(input('주문하실 팥붕어빵의 개수를 입력해주세요.  '))\n",
        "        self.order_s = int(input('주문하실 슈크림붕어빵의 개수를 입력해주세요.  '))\n",
        "        self.order_j = int(input('주문하실 잡채붕어빵의 개수를 입력해주세요.  '))\n",
        "        print()\n",
        "\n",
        "\n",
        "    def calculator(self,a,b,c):\n",
        "        self.order_p_sum += a\n",
        "        self.order_s_sum += b\n",
        "        self.order_j_sum += c\n",
        "        self.total = self.order_p_sum + self.order_s_sum + self.order_j_sum\n",
        "\n",
        "        self.order_p_pay += self.fish_p_price*a\n",
        "        self.order_s_pay += self.fish_s_price*b\n",
        "        self.order_j_pay += self.fish_j_price*c\n",
        "        self.total_pay = self.order_p_pay + self.order_s_pay + self.order_j_pay\n",
        "\n",
        "    def order_success(self):\n",
        "        print(f'주문이 완료되었습니다.{self.fish_p_taste}{self.order_p_sum}개, {self.fish_s_taste}{self.order_s_sum}개, {self.fish_j_taste}{self.order_j_sum}개 총 {self.total}개 입니다. 총 금액은 {self.total_pay}원 입니다.\\n\\n')\n",
        "\n",
        "    def system_down1(self):\n",
        "        print(\"프로그램을 종료합니다.\")\n",
        "\n",
        "    def error_message1(self):\n",
        "        print(\"숫자를 입력해주세요!\")\n",
        "    def operate_machine(self):\n",
        "        self.greeting()\n",
        "        while self.operate_yn is True:\n",
        "            self.menu()\n",
        "            self.input_b()\n",
        "            self.calculator(self.order_p,self.order_s,self.order_j)\n",
        "            self.check_order()\n",
        "            if self.operate_yn is False:\n",
        "                break\n",
        "        self.order_success()\n",
        "\n",
        "try:\n",
        "    order1 = order_machine()\n",
        "    order1.operate_machine()\n",
        "\n",
        "except ValueError:\n",
        "    order1.error_message1()\n",
        "else:\n",
        "    sell = [order1.order_p_sum , order1.order_s_sum , order1.order_j_sum, order1.total_pay]\n",
        "\n",
        "    with open('sell_list.txt','a') as f:\n",
        "        f.write(f'{now.strftime(\"%Y-%m-%d %H:%M:%S\")} | 팥붕어빵{str(sell[0])}개, 슈크림붕어빵{str(sell[1])}개, 잡채붕어빵{str(sell[2])}개 | 총 금액:{str(sell[3])}원\\n')\n",
        "    order1.system_down1()\n"
      ]
    },
    {
      "cell_type": "code",
      "source": [
        "cd /content/drive/MyDrive/학습폴더\n"
      ],
      "metadata": {
        "colab": {
          "base_uri": "https://localhost:8080/"
        },
        "id": "VTcbgC3lx932",
        "outputId": "23678fae-513a-452b-c60a-ceda513315e5"
      },
      "execution_count": 33,
      "outputs": [
        {
          "output_type": "stream",
          "name": "stdout",
          "text": [
            "/content/drive/MyDrive/학습폴더\n"
          ]
        }
      ]
    }
  ]
}